{
 "cells": [
  {
   "cell_type": "markdown",
   "metadata": {},
   "source": [
    "# Logistic Regression"
   ]
  },
  {
   "cell_type": "markdown",
   "metadata": {},
   "source": [
    "In this lesson we will discuss the logistic regression classifier model. As will be seen, this is closely related to linear regression. We will use the [Iris dataset](https://en.wikipedia.org/wiki/Iris_flower_data_set), which is built in to `seaborn` and `sklearn`. \n",
    "\n",
    "We will firstly explain how logistic regression can be used to classify binary data, by considering just one species of iris. We will then explain how the accuracy of logistic regression can be evaluated using a range of methods. The exercise will then construct a simple multiclass regression.\n",
    "\n",
    "First, import various libraries which we require."
   ]
  },
  {
   "cell_type": "code",
   "execution_count": 3,
   "metadata": {},
   "outputs": [],
   "source": [
    "import numpy as np\n",
    "import matplotlib.pyplot as plt\n",
    "import seaborn as sns;\n",
    "import pandas as pd"
   ]
  },
  {
   "cell_type": "markdown",
   "metadata": {},
   "source": [
    "## Exploratory Data Analysis"
   ]
  },
  {
   "cell_type": "markdown",
   "metadata": {},
   "source": [
    "We now import the iris data set and undertake some exploratory data analysis. The data frame has 150 rows and 5 columns. Viewing the header shows there are four features: sepal_length, sepal_width, petal_length and petal_width. These are all in cm. There is one target variable, which is the species of iris."
   ]
  },
  {
   "cell_type": "code",
   "execution_count": 4,
   "metadata": {},
   "outputs": [
    {
     "name": "stdout",
     "output_type": "stream",
     "text": [
      "Shape of the iris dataset is (150, 5)\n"
     ]
    },
    {
     "data": {
      "text/html": [
       "<div>\n",
       "<style scoped>\n",
       "    .dataframe tbody tr th:only-of-type {\n",
       "        vertical-align: middle;\n",
       "    }\n",
       "\n",
       "    .dataframe tbody tr th {\n",
       "        vertical-align: top;\n",
       "    }\n",
       "\n",
       "    .dataframe thead th {\n",
       "        text-align: right;\n",
       "    }\n",
       "</style>\n",
       "<table border=\"1\" class=\"dataframe\">\n",
       "  <thead>\n",
       "    <tr style=\"text-align: right;\">\n",
       "      <th></th>\n",
       "      <th>sepal_length</th>\n",
       "      <th>sepal_width</th>\n",
       "      <th>petal_length</th>\n",
       "      <th>petal_width</th>\n",
       "      <th>species</th>\n",
       "    </tr>\n",
       "  </thead>\n",
       "  <tbody>\n",
       "    <tr>\n",
       "      <th>0</th>\n",
       "      <td>5.1</td>\n",
       "      <td>3.5</td>\n",
       "      <td>1.4</td>\n",
       "      <td>0.2</td>\n",
       "      <td>setosa</td>\n",
       "    </tr>\n",
       "    <tr>\n",
       "      <th>1</th>\n",
       "      <td>4.9</td>\n",
       "      <td>3.0</td>\n",
       "      <td>1.4</td>\n",
       "      <td>0.2</td>\n",
       "      <td>setosa</td>\n",
       "    </tr>\n",
       "    <tr>\n",
       "      <th>2</th>\n",
       "      <td>4.7</td>\n",
       "      <td>3.2</td>\n",
       "      <td>1.3</td>\n",
       "      <td>0.2</td>\n",
       "      <td>setosa</td>\n",
       "    </tr>\n",
       "    <tr>\n",
       "      <th>3</th>\n",
       "      <td>4.6</td>\n",
       "      <td>3.1</td>\n",
       "      <td>1.5</td>\n",
       "      <td>0.2</td>\n",
       "      <td>setosa</td>\n",
       "    </tr>\n",
       "    <tr>\n",
       "      <th>4</th>\n",
       "      <td>5.0</td>\n",
       "      <td>3.6</td>\n",
       "      <td>1.4</td>\n",
       "      <td>0.2</td>\n",
       "      <td>setosa</td>\n",
       "    </tr>\n",
       "  </tbody>\n",
       "</table>\n",
       "</div>"
      ],
      "text/plain": [
       "   sepal_length  sepal_width  petal_length  petal_width species\n",
       "0           5.1          3.5           1.4          0.2  setosa\n",
       "1           4.9          3.0           1.4          0.2  setosa\n",
       "2           4.7          3.2           1.3          0.2  setosa\n",
       "3           4.6          3.1           1.5          0.2  setosa\n",
       "4           5.0          3.6           1.4          0.2  setosa"
      ]
     },
     "execution_count": 4,
     "metadata": {},
     "output_type": "execute_result"
    }
   ],
   "source": [
    "iris = sns.load_dataset('iris') # load the dataset from seaborn\n",
    "print('Shape of the iris dataset is',iris.shape) # display the shape of the data\n",
    "iris.head() # display the first few lines"
   ]
  },
  {
   "cell_type": "markdown",
   "metadata": {},
   "source": [
    "By viewing the statistics we see that there are no missing entries and the standard deviation of each column is fairly similar. However, we will normalise the data before modelling."
   ]
  },
  {
   "cell_type": "code",
   "execution_count": 5,
   "metadata": {},
   "outputs": [
    {
     "data": {
      "text/html": [
       "<div>\n",
       "<style scoped>\n",
       "    .dataframe tbody tr th:only-of-type {\n",
       "        vertical-align: middle;\n",
       "    }\n",
       "\n",
       "    .dataframe tbody tr th {\n",
       "        vertical-align: top;\n",
       "    }\n",
       "\n",
       "    .dataframe thead th {\n",
       "        text-align: right;\n",
       "    }\n",
       "</style>\n",
       "<table border=\"1\" class=\"dataframe\">\n",
       "  <thead>\n",
       "    <tr style=\"text-align: right;\">\n",
       "      <th></th>\n",
       "      <th>sepal_length</th>\n",
       "      <th>sepal_width</th>\n",
       "      <th>petal_length</th>\n",
       "      <th>petal_width</th>\n",
       "    </tr>\n",
       "  </thead>\n",
       "  <tbody>\n",
       "    <tr>\n",
       "      <th>count</th>\n",
       "      <td>150.000000</td>\n",
       "      <td>150.000000</td>\n",
       "      <td>150.000000</td>\n",
       "      <td>150.000000</td>\n",
       "    </tr>\n",
       "    <tr>\n",
       "      <th>mean</th>\n",
       "      <td>5.843333</td>\n",
       "      <td>3.057333</td>\n",
       "      <td>3.758000</td>\n",
       "      <td>1.199333</td>\n",
       "    </tr>\n",
       "    <tr>\n",
       "      <th>std</th>\n",
       "      <td>0.828066</td>\n",
       "      <td>0.435866</td>\n",
       "      <td>1.765298</td>\n",
       "      <td>0.762238</td>\n",
       "    </tr>\n",
       "    <tr>\n",
       "      <th>min</th>\n",
       "      <td>4.300000</td>\n",
       "      <td>2.000000</td>\n",
       "      <td>1.000000</td>\n",
       "      <td>0.100000</td>\n",
       "    </tr>\n",
       "    <tr>\n",
       "      <th>25%</th>\n",
       "      <td>5.100000</td>\n",
       "      <td>2.800000</td>\n",
       "      <td>1.600000</td>\n",
       "      <td>0.300000</td>\n",
       "    </tr>\n",
       "    <tr>\n",
       "      <th>50%</th>\n",
       "      <td>5.800000</td>\n",
       "      <td>3.000000</td>\n",
       "      <td>4.350000</td>\n",
       "      <td>1.300000</td>\n",
       "    </tr>\n",
       "    <tr>\n",
       "      <th>75%</th>\n",
       "      <td>6.400000</td>\n",
       "      <td>3.300000</td>\n",
       "      <td>5.100000</td>\n",
       "      <td>1.800000</td>\n",
       "    </tr>\n",
       "    <tr>\n",
       "      <th>max</th>\n",
       "      <td>7.900000</td>\n",
       "      <td>4.400000</td>\n",
       "      <td>6.900000</td>\n",
       "      <td>2.500000</td>\n",
       "    </tr>\n",
       "  </tbody>\n",
       "</table>\n",
       "</div>"
      ],
      "text/plain": [
       "       sepal_length  sepal_width  petal_length  petal_width\n",
       "count    150.000000   150.000000    150.000000   150.000000\n",
       "mean       5.843333     3.057333      3.758000     1.199333\n",
       "std        0.828066     0.435866      1.765298     0.762238\n",
       "min        4.300000     2.000000      1.000000     0.100000\n",
       "25%        5.100000     2.800000      1.600000     0.300000\n",
       "50%        5.800000     3.000000      4.350000     1.300000\n",
       "75%        6.400000     3.300000      5.100000     1.800000\n",
       "max        7.900000     4.400000      6.900000     2.500000"
      ]
     },
     "execution_count": 5,
     "metadata": {},
     "output_type": "execute_result"
    }
   ],
   "source": [
    "iris.describe() # show the statistics of the numerical columns"
   ]
  },
  {
   "cell_type": "markdown",
   "metadata": {},
   "source": [
    "The target field is a string, and has three unique values."
   ]
  },
  {
   "cell_type": "code",
   "execution_count": 6,
   "metadata": {},
   "outputs": [
    {
     "data": {
      "text/plain": [
       "array(['setosa', 'versicolor', 'virginica'], dtype=object)"
      ]
     },
     "execution_count": 6,
     "metadata": {},
     "output_type": "execute_result"
    }
   ],
   "source": [
    "iris['species'].unique() # show the unique values of the species column"
   ]
  },
  {
   "cell_type": "markdown",
   "metadata": {},
   "source": [
    "Plotting the classification against the first two features, it is apparent that setosa is fairly well separated in feature space, whereas versicolor and virginica have a blurred boundary. Note that the boundary may differ using other features. We would expect that classifiers should be able to easily classify setosa, though the other two species may be a bit more difficult. You can experiment boundaries by changing the features or using `sns.pairplot`."
   ]
  },
  {
   "cell_type": "code",
   "execution_count": 7,
   "metadata": {},
   "outputs": [
    {
     "data": {
      "text/plain": [
       "<seaborn.axisgrid.FacetGrid at 0x1dad09a62b0>"
      ]
     },
     "execution_count": 7,
     "metadata": {},
     "output_type": "execute_result"
    },
    {
     "data": {
      "image/png": "[encoded data removed]",
      "text/plain": [
       "<Figure size 617.75x500 with 1 Axes>"
      ]
     },
     "metadata": {},
     "output_type": "display_data"
    }
   ],
   "source": [
    "# plot the first two fields of the iris dataset and classify the points based on the species\n",
    "# fit_reg=False indicates don't fit a regression model\n",
    "# hue='species' indicates to classify the points based on the species field\n",
    "sns.lmplot(data=iris,x=\"sepal_length\",y=\"sepal_width\",hue='species',fit_reg=False) "
   ]
  },
  {
   "cell_type": "markdown",
   "metadata": {},
   "source": [
    "Since this is a multiclass classification problem, we need to convert the label column to binary columns. This is known as one-hot encoding. The routine `pd.get_dummies()` converts the `iris.species` field, which has three values, to three binary columns where the names of the columns are the same as the categorical values. Once we create these columns they can be joined to the original dataset."
   ]
  },
  {
   "cell_type": "code",
   "execution_count": 8,
   "metadata": {},
   "outputs": [
    {
     "data": {
      "text/html": [
       "<div>\n",
       "<style scoped>\n",
       "    .dataframe tbody tr th:only-of-type {\n",
       "        vertical-align: middle;\n",
       "    }\n",
       "\n",
       "    .dataframe tbody tr th {\n",
       "        vertical-align: top;\n",
       "    }\n",
       "\n",
       "    .dataframe thead th {\n",
       "        text-align: right;\n",
       "    }\n",
       "</style>\n",
       "<table border=\"1\" class=\"dataframe\">\n",
       "  <thead>\n",
       "    <tr style=\"text-align: right;\">\n",
       "      <th></th>\n",
       "      <th>setosa</th>\n",
       "      <th>versicolor</th>\n",
       "      <th>virginica</th>\n",
       "    </tr>\n",
       "  </thead>\n",
       "  <tbody>\n",
       "    <tr>\n",
       "      <th>0</th>\n",
       "      <td>1</td>\n",
       "      <td>0</td>\n",
       "      <td>0</td>\n",
       "    </tr>\n",
       "    <tr>\n",
       "      <th>1</th>\n",
       "      <td>1</td>\n",
       "      <td>0</td>\n",
       "      <td>0</td>\n",
       "    </tr>\n",
       "    <tr>\n",
       "      <th>2</th>\n",
       "      <td>1</td>\n",
       "      <td>0</td>\n",
       "      <td>0</td>\n",
       "    </tr>\n",
       "    <tr>\n",
       "      <th>3</th>\n",
       "      <td>1</td>\n",
       "      <td>0</td>\n",
       "      <td>0</td>\n",
       "    </tr>\n",
       "    <tr>\n",
       "      <th>4</th>\n",
       "      <td>1</td>\n",
       "      <td>0</td>\n",
       "      <td>0</td>\n",
       "    </tr>\n",
       "  </tbody>\n",
       "</table>\n",
       "</div>"
      ],
      "text/plain": [
       "   setosa  versicolor  virginica\n",
       "0       1           0          0\n",
       "1       1           0          0\n",
       "2       1           0          0\n",
       "3       1           0          0\n",
       "4       1           0          0"
      ]
     },
     "execution_count": 8,
     "metadata": {},
     "output_type": "execute_result"
    }
   ],
   "source": [
    "dummies = pd.get_dummies(iris.species) # one-hot encoding\n",
    "dummies.head()"
   ]
  },
  {
   "cell_type": "code",
   "execution_count": 9,
   "metadata": {},
   "outputs": [
    {
     "data": {
      "text/html": [
       "<div>\n",
       "<style scoped>\n",
       "    .dataframe tbody tr th:only-of-type {\n",
       "        vertical-align: middle;\n",
       "    }\n",
       "\n",
       "    .dataframe tbody tr th {\n",
       "        vertical-align: top;\n",
       "    }\n",
       "\n",
       "    .dataframe thead th {\n",
       "        text-align: right;\n",
       "    }\n",
       "</style>\n",
       "<table border=\"1\" class=\"dataframe\">\n",
       "  <thead>\n",
       "    <tr style=\"text-align: right;\">\n",
       "      <th></th>\n",
       "      <th>sepal_length</th>\n",
       "      <th>sepal_width</th>\n",
       "      <th>petal_length</th>\n",
       "      <th>petal_width</th>\n",
       "      <th>setosa</th>\n",
       "      <th>versicolor</th>\n",
       "      <th>virginica</th>\n",
       "    </tr>\n",
       "  </thead>\n",
       "  <tbody>\n",
       "    <tr>\n",
       "      <th>count</th>\n",
       "      <td>150.000000</td>\n",
       "      <td>150.000000</td>\n",
       "      <td>150.000000</td>\n",
       "      <td>150.000000</td>\n",
       "      <td>150.000000</td>\n",
       "      <td>150.000000</td>\n",
       "      <td>150.000000</td>\n",
       "    </tr>\n",
       "    <tr>\n",
       "      <th>mean</th>\n",
       "      <td>5.843333</td>\n",
       "      <td>3.057333</td>\n",
       "      <td>3.758000</td>\n",
       "      <td>1.199333</td>\n",
       "      <td>0.333333</td>\n",
       "      <td>0.333333</td>\n",
       "      <td>0.333333</td>\n",
       "    </tr>\n",
       "    <tr>\n",
       "      <th>std</th>\n",
       "      <td>0.828066</td>\n",
       "      <td>0.435866</td>\n",
       "      <td>1.765298</td>\n",
       "      <td>0.762238</td>\n",
       "      <td>0.472984</td>\n",
       "      <td>0.472984</td>\n",
       "      <td>0.472984</td>\n",
       "    </tr>\n",
       "    <tr>\n",
       "      <th>min</th>\n",
       "      <td>4.300000</td>\n",
       "      <td>2.000000</td>\n",
       "      <td>1.000000</td>\n",
       "      <td>0.100000</td>\n",
       "      <td>0.000000</td>\n",
       "      <td>0.000000</td>\n",
       "      <td>0.000000</td>\n",
       "    </tr>\n",
       "    <tr>\n",
       "      <th>25%</th>\n",
       "      <td>5.100000</td>\n",
       "      <td>2.800000</td>\n",
       "      <td>1.600000</td>\n",
       "      <td>0.300000</td>\n",
       "      <td>0.000000</td>\n",
       "      <td>0.000000</td>\n",
       "      <td>0.000000</td>\n",
       "    </tr>\n",
       "    <tr>\n",
       "      <th>50%</th>\n",
       "      <td>5.800000</td>\n",
       "      <td>3.000000</td>\n",
       "      <td>4.350000</td>\n",
       "      <td>1.300000</td>\n",
       "      <td>0.000000</td>\n",
       "      <td>0.000000</td>\n",
       "      <td>0.000000</td>\n",
       "    </tr>\n",
       "    <tr>\n",
       "      <th>75%</th>\n",
       "      <td>6.400000</td>\n",
       "      <td>3.300000</td>\n",
       "      <td>5.100000</td>\n",
       "      <td>1.800000</td>\n",
       "      <td>1.000000</td>\n",
       "      <td>1.000000</td>\n",
       "      <td>1.000000</td>\n",
       "    </tr>\n",
       "    <tr>\n",
       "      <th>max</th>\n",
       "      <td>7.900000</td>\n",
       "      <td>4.400000</td>\n",
       "      <td>6.900000</td>\n",
       "      <td>2.500000</td>\n",
       "      <td>1.000000</td>\n",
       "      <td>1.000000</td>\n",
       "      <td>1.000000</td>\n",
       "    </tr>\n",
       "  </tbody>\n",
       "</table>\n",
       "</div>"
      ],
      "text/plain": [
       "       sepal_length  sepal_width  petal_length  petal_width      setosa  \\\n",
       "count    150.000000   150.000000    150.000000   150.000000  150.000000   \n",
       "mean       5.843333     3.057333      3.758000     1.199333    0.333333   \n",
       "std        0.828066     0.435866      1.765298     0.762238    0.472984   \n",
       "min        4.300000     2.000000      1.000000     0.100000    0.000000   \n",
       "25%        5.100000     2.800000      1.600000     0.300000    0.000000   \n",
       "50%        5.800000     3.000000      4.350000     1.300000    0.000000   \n",
       "75%        6.400000     3.300000      5.100000     1.800000    1.000000   \n",
       "max        7.900000     4.400000      6.900000     2.500000    1.000000   \n",
       "\n",
       "       versicolor   virginica  \n",
       "count  150.000000  150.000000  \n",
       "mean     0.333333    0.333333  \n",
       "std      0.472984    0.472984  \n",
       "min      0.000000    0.000000  \n",
       "25%      0.000000    0.000000  \n",
       "50%      0.000000    0.000000  \n",
       "75%      1.000000    1.000000  \n",
       "max      1.000000    1.000000  "
      ]
     },
     "execution_count": 9,
     "metadata": {},
     "output_type": "execute_result"
    }
   ],
   "source": [
    "iris = iris.join(dummies) # join the binary columns to the original dataset\n",
    "iris.describe() # show the statistics of the numerical features of the dataframe"
   ]
  },
  {
   "cell_type": "markdown",
   "metadata": {},
   "source": [
    "Now we create a features table XX which comprises the first four columns of the iris data set, and a target series Y which is the binary column we have just created to identify whether or not the species is versicolor. As we will use regularization, we will use the normalized version of the features matrix X."
   ]
  },
  {
   "cell_type": "code",
   "execution_count": 10,
   "metadata": {},
   "outputs": [],
   "source": [
    "# the table XX will have the first 3 columns (0 to 3) of iris, and Y will have the binary classification column\n",
    "XX, Y = iris[iris.columns[:4]], iris.versicolor \n",
    "X = (XX-XX.mean())/XX.std() # create a new feature matrix for analysis which has mean 0 and standard deviation 1"
   ]
  },
  {
   "cell_type": "markdown",
   "metadata": {},
   "source": [
    "Then we split these data sets into training and testing sets."
   ]
  },
  {
   "cell_type": "code",
   "execution_count": 11,
   "metadata": {},
   "outputs": [],
   "source": [
    "from sklearn.model_selection import train_test_split # import the splitting method from sklearn\n",
    "\n",
    "# split the data into 80% training and 20% testing, random_state=0 ensures that the results are repeatable\n",
    "X_train,X_test,y_train,y_test=train_test_split(X,Y,train_size=0.8,random_state=0)  "
   ]
  },
  {
   "cell_type": "markdown",
   "metadata": {},
   "source": [
    "## Logistic Regression"
   ]
  },
  {
   "cell_type": "markdown",
   "metadata": {},
   "source": [
    "We can now introduce the sigmoid or logistic function. This is a defined as\n",
    "\n",
    "$$ f(x) = \\displaystyle{\\frac{1}{1+e^{-x}}}, $$\n",
    "\n",
    "and is a smooth, one-to-one (every x value gives a unique y value) function with the domain $(-\\infty,\\infty)$ and range $(0,1)$. If x is negative then the logistic function is less than 0.5 but greater than 0, while if x is positive the logistic function is greater than 0.5 but less than 1."
   ]
  },
  {
   "cell_type": "code",
   "execution_count": 12,
   "metadata": {},
   "outputs": [],
   "source": [
    "xa = np.linspace(-6,6) # create a linear array of x values between -6 and 6\n",
    "plt.plot(xa,1/(1+np.exp(-xa))); # plot the logistic function \n",
    "plt.xlabel(\"x\") # xlabel\n",
    "plt.ylabel(\"y\") # ylabel\n",
    "plt.title(\"Logistic function y = 1/(1+exp(-x))\"); # title"
   ]
  },
  {
   "cell_type": "markdown",
   "metadata": {},
   "source": [
    "Logistic regression assumes that the data is described by m instances or points, and at each of these there are n features. At each point from i=1,2,...,m, the probability of the data being classified as true or false is modelled by\n",
    "\n",
    "$$ y_i = f(c_0 + c_1 x_{i,1} + c_2 x_{i,2} + \\cdots + c_n x_{i,n}), $$\n",
    "\n",
    "where $f$ is the **logistic** function. The algorithm then calculates the optimal coefficients $c_1$, $c_2$,..., $c_n$ and the intercept $c_0$. For linear regression the coefficients were calculated by minimizing the sum of the square of the errors. This is equivalent to maximimizing the likelihood of the observed data, assuming the data points are distributed with mean 0 and some standard deviation $\\sigma$. Therefore, the observed data is the most likely data. For logistic regression these two statements are no longer equivalent, however, the coefficients can be calculated by again maximizing the likelihood of the observed data. This is done by using optimization algorithms.\n",
    "\n",
    "The process for logistic regression using `sklearn` is the same as the other models we have so far considered, however the options change when instantiating the model. We will use the default solver `lbfgs` and no regularization, which corresponds to `penalty='none'`. We can then fit the data and show the model partameters."
   ]
  },
  {
   "cell_type": "code",
   "execution_count": 13,
   "metadata": {},
   "outputs": [
    {
     "name": "stdout",
     "output_type": "stream",
     "text": [
      "Model coefficients are [[-0.728 -1.04   3.269 -2.612]]\n",
      "Model intercept is [-1.139]\n"
     ]
    }
   ],
   "source": [
    "from sklearn.linear_model import LogisticRegression # import the LogisticRegression model\n",
    "# instantiate the model (using the default parameters)\n",
    "# penalty='none' implies no regularization and solver='lbfgs' is the default solver\n",
    "# different solvers can be used, dependent on the type of penalties that are implemented\n",
    "logreg = LogisticRegression(solver='lbfgs',penalty='none')\n",
    "logreg.fit(X_train,y_train) # fit the training data to the model\n",
    "print('Model coefficients are',np.round(logreg.coef_,3)) # print the model coefficients c1,...,c4\n",
    "print('Model intercept is',np.round(logreg.intercept_,3)) # print the model intercept c0"
   ]
  },
  {
   "cell_type": "markdown",
   "metadata": {},
   "source": [
    "Next we investigate the probabilities that are output. The second column, which is the probability of correctly picking the species, is the output of the logistic function. Since the problem is binary, the first column is just 1 minus the second column. "
   ]
  },
  {
   "cell_type": "code",
   "execution_count": 14,
   "metadata": {},
   "outputs": [
    {
     "name": "stdout",
     "output_type": "stream",
     "text": [
      "Probability table for testing set is:\n",
      "[[0.89243578 0.10756422]\n",
      " [0.13005863 0.86994137]\n",
      " [0.98909241 0.01090759]\n",
      " [0.35327204 0.64672796]\n",
      " [0.87792911 0.12207089]\n",
      " [0.91870274 0.08129726]\n",
      " [0.94905456 0.05094544]\n",
      " [0.78248685 0.21751315]\n",
      " [0.53102397 0.46897603]\n",
      " [0.65646548 0.34353452]\n",
      " [0.07941501 0.92058499]\n",
      " [0.8355475  0.1644525 ]\n",
      " [0.27061832 0.72938168]\n",
      " [0.63956782 0.36043218]\n",
      " [0.48313743 0.51686257]\n",
      " [0.90068995 0.09931005]\n",
      " [0.63590785 0.36409215]\n",
      " [0.1914039  0.8085961 ]\n",
      " [0.7974158  0.2025842 ]\n",
      " [0.98978748 0.01021252]\n",
      " [0.7190421  0.2809579 ]\n",
      " [0.6093423  0.3906577 ]\n",
      " [0.74197751 0.25802249]\n",
      " [0.60756692 0.39243308]\n",
      " [0.72457132 0.27542868]\n",
      " [0.95367092 0.04632908]\n",
      " [0.9507414  0.0492586 ]\n",
      " [0.60314947 0.39685053]\n",
      " [0.22360126 0.77639874]\n",
      " [0.92223402 0.07776598]]\n"
     ]
    }
   ],
   "source": [
    "y_preda = logreg.predict_proba(X_test) # calculate the probabilities for the test features\n",
    "# print out the probability table with a header\n",
    "print('Probability table for testing set is:')\n",
    "print(y_preda)"
   ]
  },
  {
   "cell_type": "markdown",
   "metadata": {},
   "source": [
    "Using a classification threshold of 0.5, i.e., $P>0.5$ indicates true and $P<0.5$ indicates false, the probabilities are then used to predict the target test values, which can be compared against the actual target test values. We can see there are correct predictions at (1,1) (true positives) and (0,0) (true negative), but there are also false positives at (1,0) and false negatives at (0,1). False positives indicates that the model incorrectly predicts a positive value, similarly false negatives indicates that the model incorrectly predicts a negative value."
   ]
  },
  {
   "cell_type": "code",
   "execution_count": 15,
   "metadata": {},
   "outputs": [],
   "source": [
    "y_pred=logreg.predict(X_test) # calculate the predicted values of the model for the test features\n",
    "plt.scatter(y_pred,y_test) # plot the predicted values against the actual test values\n",
    "plt.xlabel('Predicted') # xlabel\n",
    "plt.ylabel('Actual') # ylabel \n",
    "plt.title('Logistic Regression'); # add a title"
   ]
  },
  {
   "cell_type": "markdown",
   "metadata": {},
   "source": [
    "To determine the number of correct predictions, false positives and false negatives, we can construct a confusion matrix. From the confusion matrix it can be seen that there are 15 true negatives, 5 true positives, 2 false positives where versicolor was incorrectly predicted, and 8 false negatives, where the other species was incorrectly predicted. The false positive and negatives will typically relate to the virginica species, rather than setosa."
   ]
  },
  {
   "cell_type": "code",
   "execution_count": 16,
   "metadata": {},
   "outputs": [],
   "source": [
    "from sklearn.metrics import confusion_matrix # import the confusion matrix function\n",
    "cnf_matrix = confusion_matrix(y_test, y_pred) # create a confusion matrix for our actual and predicted values\n",
    "# create a data frame from the confusion matrix with the column and row names being the class_names\n",
    "class_names=['other', 'versicolor'] # names of the binary classes for plotting\n",
    "cmatrix = pd.DataFrame(cnf_matrix,columns=class_names,index=class_names) \n",
    "f, ax = plt.subplots(figsize=(7,6)) # initialise the plots and axes\n",
    "sns.heatmap(cmatrix, annot=True, linewidths=.5) # plot the confusion matrix as a heatmap\n",
    "plt.title('Confusion matrix') # add a title\n",
    "plt.ylabel('Actual label') # add a ylabel\n",
    "plt.xlabel('Predicted label') # add a xlabel\n",
    "# adjust the bottom and top of the figure, so we can view all of it\n",
    "bottom, top = ax.get_ylim()  # get the y axis limits\n",
    "ax.set_ylim(bottom + 0.5, top - 0.5); # adjust the y axis limits"
   ]
  },
  {
   "cell_type": "markdown",
   "metadata": {},
   "source": [
    "We can calculate various scores to determine the effectiveness of the classifier. The accuracy score is the number of correct scores divided by the number of samples. The precision score is the number of true positives divided by the true positives plus false positives. The recall score is the number of true positives divided by the true positives plus false negatives. The precision and recall scores give an indication of how well the algorithm is able to pick positive samples, whereas the accurary gives an indication of how well the algorithm can predict correct samples overall."
   ]
  },
  {
   "cell_type": "code",
   "execution_count": 17,
   "metadata": {},
   "outputs": [
    {
     "name": "stdout",
     "output_type": "stream",
     "text": [
      "Accuracy: 0.667\n",
      "Precision: 0.714\n",
      "Recall: 0.385\n"
     ]
    }
   ],
   "source": [
    "from sklearn.metrics import accuracy_score, precision_score, recall_score # import the score functions \n",
    "print(\"Accuracy:\",np.round(accuracy_score(y_test, y_pred),3)) # calculate and print the accuracy score\n",
    "print(\"Precision:\",np.round(precision_score(y_test, y_pred),3)) # calculate and print the precision score\n",
    "print(\"Recall:\",np.round(recall_score(y_test, y_pred),3)) # calculate and print the recall score"
   ]
  },
  {
   "cell_type": "markdown",
   "metadata": {},
   "source": [
    "These measures, and other measures of the classification, can also be plotted by using the `sklearn` function `classification_report`. The **f1-score** is a combination of the **precision** and **recall**. This function is particularly useful for multiclass problems."
   ]
  },
  {
   "cell_type": "code",
   "execution_count": 18,
   "metadata": {},
   "outputs": [
    {
     "name": "stdout",
     "output_type": "stream",
     "text": [
      "              precision    recall  f1-score   support\n",
      "\n",
      "           0       0.65      0.88      0.75        17\n",
      "           1       0.71      0.38      0.50        13\n",
      "\n",
      "    accuracy                           0.67        30\n",
      "   macro avg       0.68      0.63      0.62        30\n",
      "weighted avg       0.68      0.67      0.64        30\n",
      "\n"
     ]
    }
   ],
   "source": [
    "from sklearn.metrics import classification_report\n",
    "\n",
    "print(classification_report(y_test, y_pred))"
   ]
  },
  {
   "cell_type": "markdown",
   "metadata": {},
   "source": [
    "To further quantify the accurary of the classifier we can construct a Response Operating Characteristic (ROC) curve, which plots the false positive rate (FPR) against the true positive rate (TPR) as the classification threshold is changed. The TPR is the same as the precision score, while the FPR is the number of false positives divided by the false positives plus true negatives. For a perfect classifier we would expect that TPR=1 and FPR=0. We have considered up until this point a classification threshold of 0.5. If the classification threshold is very high (close to 1), then we are not going to flag any positive respones, so TPR=0 and FPR=0. If the classification threshold is very low (close to 0), then we will only flag positive responses and TPR=1 and FPR=1. Hence if our classifier is good, as the threshold changes the ROC curve will hug the left and top boundaries of the figure. If this occurs the area under the ROC curve (AUC) will approach 1. Therefore classifiers can be compared for a particular problem by measuring the AUC. Any classifier which is below the line y=x and has AUC less than 0.5 will be useless. "
   ]
  },
  {
   "cell_type": "code",
   "execution_count": 19,
   "metadata": {},
   "outputs": [],
   "source": [
    "# import the functions to calculate the parameters for the ROC curve and the AUC\n",
    "from sklearn.metrics import roc_curve, roc_auc_score \n",
    "y_pred_proba = logreg.predict_proba(X_test)[::,1] # extract the second column of the model probabilities \n",
    "# calculate the false positive and true positive rates as the threshold is varied, we don't use thresholds\n",
    "fpr, tpr, thresholds = roc_curve(y_test,  y_pred_proba)\n",
    "auc = roc_auc_score(y_test, y_pred_proba) # calculate the area under the ROC curve (AUC)\n",
    "# plot the FPR vs TPR and format label with AUC to 3 decimal places\n",
    "plt.plot(fpr,tpr,label=\"Logistic Regression, auc = %0.3f \" % auc)\n",
    "plt.plot([0,1],[0,1],'k--') # plot x = y for comparison\n",
    "plt.plot([0, 0, 1], [0, 1, 1], 'g--', label=\"'Perfect' Classifier\")\n",
    "plt.xlabel('False Positive Rate') # add xlabel\n",
    "plt.ylabel('True Positive Rate') # add ylabel\n",
    "plt.title('ROC curve') # add title\n",
    "plt.legend(loc='best'); # add legend"
   ]
  },
  {
   "cell_type": "markdown",
   "metadata": {},
   "source": [
    "## Ridge regularization"
   ]
  },
  {
   "cell_type": "markdown",
   "metadata": {},
   "source": [
    "As with Linear Regression we can use regularization on Logistic Regression to improve the accuracy of the model. Here we will only consider Ridge regularization. For Logistic Regression, Ridge regularization is implemented by setting `penalty='l2'` and the regularization is inversely proportional to the parameter C, which has the default value 1. Therefore C very large corresponds to no regularization. In the following we calculate the ROC curve and the corresponding AUC for C=1 and 5. As is apparent we obtain an increase in the AUC with C=5."
   ]
  },
  {
   "cell_type": "code",
   "execution_count": 20,
   "metadata": {},
   "outputs": [],
   "source": [
    "plt.plot(fpr,tpr,label=\"LR, auc =  %0.3f \" % auc) # original model with no regularization \n",
    "\n",
    "for CC in  [1.,5.]:\n",
    "# instantiate the logistic regression model with ridge regularization and C=CC\n",
    "    logreg1 = LogisticRegression(solver='lbfgs',penalty='l2',C=CC) \n",
    "    logreg1.fit(X_train,y_train) # fit the data to the model\n",
    "    y_pred = logreg1.predict(X_test) # calculate the probabilites for the test features\n",
    "    y_pred_proba = logreg1.predict_proba(X_test)[::,1] # calculate the probabilites for the test features\n",
    "    fpr1, tpr1, thresholds1 = roc_curve(y_test,  y_pred_proba) # calculate the FPR and TPR for the ROC curve\n",
    "    auc1 = roc_auc_score(y_test, y_pred_proba) # calculate the area under the ROC curve\n",
    "    plt.plot(fpr1,tpr1,label=\"C={:.0f}, auc =  {:.3f} \".format(CC,auc1)) # regularization with given value of C\n",
    "\n",
    "# plot the ROC curves for the three models\n",
    "plt.plot([0,1],[0,1],'k--') # plot x = y for comparision\n",
    "plt.plot([0, 0, 1], [0, 1, 1], 'g--', label=\"'Perfect' Classifier\")\n",
    "plt.xlabel('False Positive Rate') # add xlabel\n",
    "plt.ylabel('True Positive Rate') # add ylabel\n",
    "plt.title('ROC curves with Ridge regularization') # add title\n",
    "plt.legend(loc='best'); # add legend"
   ]
  },
  {
   "cell_type": "markdown",
   "metadata": {},
   "source": [
    "## Exercise"
   ]
  },
  {
   "cell_type": "markdown",
   "metadata": {},
   "source": [
    "The aim of this exercise is to construct a simple one vs rest multiclass classifier based on the probabilities for each of the binary problems for the three iris species. For this problem, only use the first two features, i.e., sepal width and sepal length. "
   ]
  },
  {
   "cell_type": "markdown",
   "metadata": {},
   "source": [
    "**Exercise 1** \n",
    "\n",
    "Create a new features dataframe only using the first two columns of the iris features. (2 marks)"
   ]
  },
  {
   "cell_type": "code",
   "execution_count": 21,
   "metadata": {},
   "outputs": [
    {
     "data": {
      "text/html": [
       "<div>\n",
       "<style scoped>\n",
       "    .dataframe tbody tr th:only-of-type {\n",
       "        vertical-align: middle;\n",
       "    }\n",
       "\n",
       "    .dataframe tbody tr th {\n",
       "        vertical-align: top;\n",
       "    }\n",
       "\n",
       "    .dataframe thead th {\n",
       "        text-align: right;\n",
       "    }\n",
       "</style>\n",
       "<table border=\"1\" class=\"dataframe\">\n",
       "  <thead>\n",
       "    <tr style=\"text-align: right;\">\n",
       "      <th></th>\n",
       "      <th>sepal_length</th>\n",
       "      <th>sepal_width</th>\n",
       "      <th>species</th>\n",
       "    </tr>\n",
       "  </thead>\n",
       "  <tbody>\n",
       "    <tr>\n",
       "      <th>0</th>\n",
       "      <td>5.1</td>\n",
       "      <td>3.5</td>\n",
       "      <td>setosa</td>\n",
       "    </tr>\n",
       "    <tr>\n",
       "      <th>1</th>\n",
       "      <td>4.9</td>\n",
       "      <td>3.0</td>\n",
       "      <td>setosa</td>\n",
       "    </tr>\n",
       "    <tr>\n",
       "      <th>2</th>\n",
       "      <td>4.7</td>\n",
       "      <td>3.2</td>\n",
       "      <td>setosa</td>\n",
       "    </tr>\n",
       "    <tr>\n",
       "      <th>3</th>\n",
       "      <td>4.6</td>\n",
       "      <td>3.1</td>\n",
       "      <td>setosa</td>\n",
       "    </tr>\n",
       "    <tr>\n",
       "      <th>4</th>\n",
       "      <td>5.0</td>\n",
       "      <td>3.6</td>\n",
       "      <td>setosa</td>\n",
       "    </tr>\n",
       "  </tbody>\n",
       "</table>\n",
       "</div>"
      ],
      "text/plain": [
       "   sepal_length  sepal_width species\n",
       "0           5.1          3.5  setosa\n",
       "1           4.9          3.0  setosa\n",
       "2           4.7          3.2  setosa\n",
       "3           4.6          3.1  setosa\n",
       "4           5.0          3.6  setosa"
      ]
     },
     "execution_count": 21,
     "metadata": {},
     "output_type": "execute_result"
    }
   ],
   "source": [
    "new_features_df = iris[['sepal_length', 'sepal_width','species']]\n",
    "\n",
    "new_features_df.head()\n",
    "\n"
   ]
  },
  {
   "cell_type": "markdown",
   "metadata": {},
   "source": [
    "**Exericse 2** \n",
    "\n",
    "For each of the iris categories, model the data using Logistic Regression with C=5 for Ridge Regularization and calculate the probabilities for the testing set of the category being correct. Store these probabilites in an array. For each category you will need to resplit the data set, but make sure you use the same random state. Alternatively, split the data set initially with all three labels, and then work on each category. The necessary one-hot encoding has already been performed. (3 marks)"
   ]
  },
  {
   "cell_type": "code",
   "execution_count": 26,
   "metadata": {},
   "outputs": [
    {
     "name": "stdout",
     "output_type": "stream",
     "text": [
      "Probabilities for setosa category:\n",
      "[7.11873239e-05 1.85181622e-03 9.99359378e-01 1.03962699e-05\n",
      " 9.94784469e-01 3.89070124e-05 9.96224003e-01 1.18128047e-03\n",
      " 4.19023440e-04 5.14405019e-03 2.13918337e-04 3.53681673e-03\n",
      " 2.64881976e-03 6.62285725e-04 2.07214404e-03 9.98549194e-01\n",
      " 2.37985821e-03 5.21207160e-03 9.82548652e-01 9.97581631e-01\n",
      " 4.20661315e-04 6.33975974e-03 9.93441813e-01 9.90239884e-01\n",
      " 3.34613812e-04 9.99302307e-01 9.95185627e-01 4.10533386e-03\n",
      " 3.27267888e-02 9.89250389e-01]\n",
      "Probabilities for versicolor category:\n",
      "[0.18026283 0.85689356 0.01212288 0.54916075 0.12322917 0.09436253\n",
      " 0.06492448 0.23229244 0.46915722 0.38118539 0.83455813 0.17572856\n",
      " 0.62711491 0.39418263 0.45533881 0.08825725 0.35974048 0.72729182\n",
      " 0.24000701 0.01603059 0.31548783 0.34152756 0.19436203 0.37995204\n",
      " 0.32660989 0.05386439 0.04546003 0.38805692 0.76800769 0.09223679]\n",
      "Probabilities for virginica category:\n",
      "[9.95529746e-01 7.94409106e-03 3.86681953e-09 9.78654817e-01\n",
      " 2.43463963e-08 9.99126502e-01 2.39139152e-08 1.25873954e-01\n",
      " 1.41118063e-01 1.65488610e-02 6.41966621e-01 7.56352225e-02\n",
      " 4.29438096e-02 1.73601894e-01 1.15400941e-01 7.33918147e-09\n",
      " 1.36637752e-01 3.67799779e-02 7.99162529e-08 1.92200504e-08\n",
      " 9.23786974e-01 1.27483913e-01 6.42695824e-08 5.71000896e-08\n",
      " 7.01772492e-01 5.92896439e-09 9.91765204e-08 2.64100846e-02\n",
      " 1.73227287e-03 1.07133416e-07]\n"
     ]
    }
   ],
   "source": [
    "\n",
    "X_train, X_test, y_train, y_test = train_test_split(X, Y, train_size=0.8, random_state=0)\n",
    "\n",
    "category_probabilities = {}\n",
    "\n",
    "for category in ['setosa', 'versicolor', 'virginica']:\n",
    "   \n",
    "    y_category = iris[category]\n",
    "    \n",
    "    X_train_cat, X_test_cat, y_train_cat, y_test_cat = train_test_split(X, y_category, train_size=0.8, random_state=0)\n",
    "    \n",
    "    logreg_cat = LogisticRegression(solver='lbfgs', penalty='l2', C=5)\n",
    "    logreg_cat.fit(X_train_cat, y_train_cat)\n",
    "    \n",
    "    category_probabilities[category] = logreg_cat.predict_proba(X_test_cat)[:, 1]  \n",
    "for category, probabilities in category_probabilities.items():\n",
    "    print(f\"Probabilities for {category} category:\\n{probabilities}\")\n"
   ]
  },
  {
   "cell_type": "markdown",
   "metadata": {},
   "source": [
    "**Exercise 3** \n",
    "\n",
    "For each instance in feature space, choose the category with the highest probability. The function `numpy.argmax()` will be allow you to do this. (3 marks)"
   ]
  },
  {
   "cell_type": "code",
   "execution_count": 28,
   "metadata": {},
   "outputs": [
    {
     "name": "stdout",
     "output_type": "stream",
     "text": [
      "Predicted categories for each instance:\n",
      "['virginica', 'versicolor', 'setosa', 'virginica', 'setosa', 'virginica', 'setosa', 'versicolor', 'versicolor', 'versicolor', 'versicolor', 'versicolor', 'versicolor', 'versicolor', 'versicolor', 'setosa', 'versicolor', 'versicolor', 'setosa', 'setosa', 'virginica', 'versicolor', 'setosa', 'setosa', 'virginica', 'setosa', 'setosa', 'versicolor', 'versicolor', 'setosa']\n"
     ]
    }
   ],
   "source": [
    "import numpy as np\n",
    "\n",
    "predicted_categories = []\n",
    "\n",
    "for i in range(len(X_test)):\n",
    "    instance_probabilities = []\n",
    "    \n",
    "    for category, probabilities in category_probabilities.items():\n",
    "        instance_probabilities.append(probabilities[i])\n",
    "    \n",
    "    predicted_category_index = np.argmax(instance_probabilities)\n",
    "    predicted_category = list(category_probabilities.keys())[predicted_category_index]\n",
    "    \n",
    "    predicted_categories.append(predicted_category)\n",
    "\n",
    "# Print the predicted categories\n",
    "print(\"Predicted categories for each instance:\")\n",
    "print(predicted_categories)\n",
    "\n"
   ]
  },
  {
   "cell_type": "markdown",
   "metadata": {},
   "source": [
    "**Exercise 4** \n",
    "\n",
    "Plot the final classification for the testing set in feature space, with colours based on the predicted category. (2 marks)"
   ]
  },
  {
   "cell_type": "code",
   "execution_count": 27,
   "metadata": {},
   "outputs": [
    {
     "data": {
      "image/png": "[encoded data removed]",
      "text/plain": [
       "<Figure size 800x600 with 1 Axes>"
      ]
     },
     "metadata": {},
     "output_type": "display_data"
    }
   ],
   "source": [
    "import matplotlib.pyplot as plt\n",
    "\n",
    "# Define colors for each predicted category\n",
    "colors = {'setosa': 'blue', 'versicolor': 'green', 'virginica': 'red'}\n",
    "\n",
    "# Plot the testing set in feature space\n",
    "plt.figure(figsize=(8, 6))\n",
    "for i, category in enumerate(category_probabilities.keys()):\n",
    "    # Extract indices of instances belonging to the current category\n",
    "    category_indices = np.where(np.array(predicted_categories) == category)[0]\n",
    "    # Plot instances belonging to the current category\n",
    "    plt.scatter(X_test.iloc[category_indices, 0], X_test.iloc[category_indices, 1], color=colors[category], label=category)\n",
    "\n",
    "plt.xlabel('Sepal Width (Normalized)')\n",
    "plt.ylabel('Sepal Length (Normalized)')\n",
    "plt.title('Final Classification for Testing Set')\n",
    "plt.legend()\n",
    "plt.grid(True)\n",
    "plt.show()\n",
    "\n",
    "\n"
   ]
  },
  {
   "cell_type": "code",
   "execution_count": null,
   "metadata": {},
   "outputs": [],
   "source": []
  }
 ],
 "metadata": {
  "kernelspec": {
   "display_name": "Python 3 (ipykernel)",
   "language": "python",
   "name": "python3"
  },
  "language_info": {
   "codemirror_mode": {
    "name": "ipython",
    "version": 3
   },
   "file_extension": ".py",
   "mimetype": "text/x-python",
   "name": "python",
   "nbconvert_exporter": "python",
   "pygments_lexer": "ipython3",
   "version": "3.9.13"
  }
 },
 "nbformat": 4,
 "nbformat_minor": 4
}
